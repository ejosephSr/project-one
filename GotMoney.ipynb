{
 "cells": [
  {
   "cell_type": "markdown",
   "metadata": {},
   "source": [
    "# Import Python Libraries\n",
    "## Libraries Used\n",
    "##### Pandas\n",
    "Data manipulation and analysis\n",
    "##### MatPlotLib Pyplot\n",
    "2D plotting\n",
    "##### Numpy\n",
    "Supports large, multi-dimensional arrays and matrix manipulation and high level mathematical functions on these arrays\n",
    "##### Scipy Stats\n",
    "Hypothesis testing"
   ]
  },
  {
   "cell_type": "code",
   "execution_count": null,
   "metadata": {},
   "outputs": [],
   "source": [
    "# Perform library imports\n",
    "import pandas as pd\n",
    "import matplotlib.pyplot as plt\n",
    "import numpy as np\n",
    "import scipy.stats as stats"
   ]
  },
  {
   "cell_type": "markdown",
   "metadata": {},
   "source": [
    "### Import Data Dictionaries to Convert Codes to Descriptions\n",
    "\n",
    "##### Sources\n",
    "\n",
    "Non-Profit Data - NCSS Data Archive:  https://nccs-data.urban.org/dd2.php?close=1&form=BMF+08/2016\n",
    "\n",
    "Region Data - https://www2.census.gov/geo/pdfs/maps-data/maps/reference/us_regdiv.pdf\n",
    "\n",
    "##### Non-Profit Method\n",
    "* Created text files in json format within Visual Studio for each Data Dictionary\n",
    "* Saved files to Resources folder\n",
    "* Used pandas library to read the files into dataframes"
   ]
  },
  {
   "cell_type": "code",
   "execution_count": null,
   "metadata": {},
   "outputs": [],
   "source": [
    "# Import Level1 Data Dictionary and display : NOTE - This is only a break out of Public Charities\n",
    "file_Level1 = \"./Resources/NCSSDataDictLevel1.txt\"\n",
    "dict_Level1 = pd.read_json(file_Level1)\n",
    "dict_Level1"
   ]
  },
  {
   "cell_type": "code",
   "execution_count": null,
   "metadata": {},
   "outputs": [],
   "source": [
    "# Import Region csv file\n",
    "region_csv = './Resources/State_region.csv'\n",
    "df_region = pd.read_csv(region_csv)\n",
    "df_region"
   ]
  },
  {
   "cell_type": "markdown",
   "metadata": {},
   "source": [
    "### Import IRS Business Master Files\n",
    "\n",
    "##### Source\n",
    "NCSS Data Archive\n",
    "https://nccs-data.urban.org/data.php?ds=bmf\n",
    "\n",
    "##### File\n",
    "bmf.bm1812.csv"
   ]
  },
  {
   "cell_type": "code",
   "execution_count": null,
   "metadata": {},
   "outputs": [],
   "source": [
    "# specify file name\n",
    "gov_data_file = \"./Resources/2018_BMF.csv\"\n",
    "\n",
    "# import file\n",
    "gov_data = pd.read_csv(gov_data_file, low_memory=False)\n",
    "\n",
    "# Display resulting dataframe header\n",
    "gov_data.head()"
   ]
  },
  {
   "cell_type": "markdown",
   "metadata": {},
   "source": [
    "# Data Cleaning Phase\n"
   ]
  },
  {
   "cell_type": "code",
   "execution_count": null,
   "metadata": {},
   "outputs": [],
   "source": [
    "gov_data.count()"
   ]
  },
  {
   "cell_type": "code",
   "execution_count": null,
   "metadata": {},
   "outputs": [],
   "source": [
    "# Select only the columns of data we need for analysis\n",
    "gov_data = gov_data[[\"EIN\", \"CTOTREV\", \"CASSETS\", \"NAME\", \"CITY\", \"STATE\", \"NTMAJ10\", \"LEVEL1\", \"OUTNCCS\"]]"
   ]
  },
  {
   "cell_type": "code",
   "execution_count": null,
   "metadata": {},
   "outputs": [],
   "source": [
    "# check the number of data rows per column\n",
    "gov_data.count()"
   ]
  },
  {
   "cell_type": "code",
   "execution_count": null,
   "metadata": {},
   "outputs": [],
   "source": [
    "# display the data read in\n",
    "gov_data"
   ]
  },
  {
   "cell_type": "code",
   "execution_count": null,
   "metadata": {},
   "outputs": [],
   "source": [
    "indexNames = gov_data[gov_data[\"OUTNCCS\"]!=\"IN\"].index\n",
    "len(indexNames)"
   ]
  },
  {
   "cell_type": "code",
   "execution_count": null,
   "metadata": {},
   "outputs": [],
   "source": [
    "# drop the rows identified and show the resulting dataframe\n",
    "gov_data.drop(indexNames, inplace=True)\n",
    "gov_data.head()"
   ]
  },
  {
   "cell_type": "code",
   "execution_count": null,
   "metadata": {},
   "outputs": [],
   "source": [
    "gov_data.count()"
   ]
  },
  {
   "cell_type": "code",
   "execution_count": null,
   "metadata": {},
   "outputs": [],
   "source": [
    "# identify the indices of rows we want to eliminate and display how many rows are found\n",
    "indexNames = gov_data[gov_data[\"LEVEL1\"]==\"O\"].index\n",
    "len(indexNames)"
   ]
  },
  {
   "cell_type": "code",
   "execution_count": null,
   "metadata": {},
   "outputs": [],
   "source": [
    "# drop the rows identified and show the resulting dataframe\n",
    "gov_data.drop(indexNames, inplace=True)\n",
    "gov_data.head()"
   ]
  },
  {
   "cell_type": "code",
   "execution_count": null,
   "metadata": {},
   "outputs": [],
   "source": [
    "# identify the indices of rows we want to eliminate and display how many rows\n",
    "indexNames = gov_data[gov_data[\"LEVEL1\"]==\"U\"].index\n",
    "len(indexNames)"
   ]
  },
  {
   "cell_type": "code",
   "execution_count": null,
   "metadata": {},
   "outputs": [],
   "source": [
    "# drop the rows identified and show the resulting dataframe\n",
    "gov_data.drop(indexNames, inplace=True)\n",
    "gov_data.head()"
   ]
  },
  {
   "cell_type": "code",
   "execution_count": null,
   "metadata": {},
   "outputs": [],
   "source": [
    "# Determine if rows are even yet\n",
    "gov_data.count()"
   ]
  },
  {
   "cell_type": "code",
   "execution_count": null,
   "metadata": {},
   "outputs": [],
   "source": [
    "# drop invalid rows and display\n",
    "gov_data.dropna(axis=0, how='any', inplace=True)\n",
    "gov_data"
   ]
  },
  {
   "cell_type": "code",
   "execution_count": null,
   "metadata": {},
   "outputs": [],
   "source": [
    "# Determine the remaining count of rows and ensure our data set is full (no uneven row counts)\n",
    "gov_data.count()"
   ]
  },
  {
   "cell_type": "markdown",
   "metadata": {},
   "source": [
    "# Merge Region Data"
   ]
  },
  {
   "cell_type": "code",
   "execution_count": null,
   "metadata": {},
   "outputs": [],
   "source": [
    "# Merge Region and gov_data\n",
    "gov_data = pd.merge(gov_data, df_region, on= \"STATE\", how=\"inner\")\n",
    "gov_data"
   ]
  },
  {
   "cell_type": "markdown",
   "metadata": {},
   "source": [
    "# Save file"
   ]
  },
  {
   "cell_type": "code",
   "execution_count": null,
   "metadata": {},
   "outputs": [],
   "source": [
    "gov_data.to_csv(index=False, path_or_buf=\"./Resources/gov_data.csv\")"
   ]
  },
  {
   "cell_type": "markdown",
   "metadata": {},
   "source": [
    "# Review Basic Statistics of the Remaining Data\n",
    "* Run basic statistics on the numeric columns\n"
   ]
  },
  {
   "cell_type": "code",
   "execution_count": null,
   "metadata": {},
   "outputs": [],
   "source": [
    "gov_data.describe()"
   ]
  },
  {
   "cell_type": "markdown",
   "metadata": {},
   "source": [
    "# Beth's section - Visualization 1-3"
   ]
  },
  {
   "cell_type": "code",
   "execution_count": null,
   "metadata": {},
   "outputs": [],
   "source": []
  },
  {
   "cell_type": "markdown",
   "metadata": {},
   "source": [
    "# Emile's section - Visualization 4"
   ]
  },
  {
   "cell_type": "code",
   "execution_count": null,
   "metadata": {},
   "outputs": [],
   "source": []
  },
  {
   "cell_type": "markdown",
   "metadata": {},
   "source": [
    "# Scott's section - Visualization 5"
   ]
  },
  {
   "cell_type": "code",
   "execution_count": null,
   "metadata": {},
   "outputs": [],
   "source": []
  },
  {
   "cell_type": "markdown",
   "metadata": {},
   "source": [
    "# Deanna section - Visualization 6-7"
   ]
  },
  {
   "cell_type": "code",
   "execution_count": null,
   "metadata": {},
   "outputs": [],
   "source": []
  },
  {
   "cell_type": "markdown",
   "metadata": {},
   "source": [
    "# Katherine's section - Hypothesis Testing"
   ]
  },
  {
   "cell_type": "markdown",
   "metadata": {},
   "source": [
    "### Create a function to compare four populations (Northeast, South, Midwest, West)\n",
    "##### Inputs\n",
    "* Four series (populations)\n",
    "* Title\n",
    "* xAxis label\n",
    "\n",
    "##### Displays\n",
    "* Histogram\n",
    "* ANOVA"
   ]
  },
  {
   "cell_type": "code",
   "execution_count": null,
   "metadata": {},
   "outputs": [],
   "source": [
    "# Function comparing four populations\n",
    "def populationCompare(northeast, south, midwest, west, title, x_label):\n",
    "    \n",
    "    # Set the figure size\n",
    "    plt.figure(figsize=(20,8))\n",
    "    \n",
    "    # Create the histogram\n",
    "    # values\n",
    "    plt.hist(northeast, 10, density=True, alpha=0.7, color='b', label=\"Northeast\" )    \n",
    "    plt.hist(south, 10, density=True, alpha=0.7, color='r', label=\"South\" )    \n",
    "    plt.hist(midwest, 10, density=True, alpha=0.7, color='g', label=\"Midwest\" )    \n",
    "    plt.hist(west, 10, density=True, alpha=0.7, color='k', label=\"West\" )    \n",
    "    \n",
    "    # mean line\n",
    "    plt.axvline(northeast.mean(), color='b', linestyle='dashed', linewidth=2 )    \n",
    "    plt.axvline(south.mean(), color='r', linestyle='dashed', linewidth=2 )   \n",
    "    plt.axvline(midwest.mean(), color='g', linestyle='dashed', linewidth=2 )    \n",
    "    plt.axvline(west.mean(), color='k', linestyle='dashed', linewidth=2 )   \n",
    "    \n",
    "    # labels\n",
    "    graph_title = title + \" by Region\"\n",
    "    plt.title(graph_title, color='k', size=14, weight='bold')\n",
    "    plt.xlabel(x_label)    \n",
    "    plt.ylabel(\"Frequency\")    \n",
    "    plt.legend(loc=\"best\")\n",
    "    plt.grid(alpha=0.5)\n",
    "    \n",
    "    # save the graph\n",
    "    plt.savefig('./Output/' + graph_title.replace(\" \", \"\") + '.png')\n",
    "    \n",
    "    # Perform an ANOVA test assuming populations are not equal\n",
    "    print('\\033[1m' + '\\nANOVA test' + '\\033[0m')\n",
    "    print(stats.f_oneway(northeast, south, midwest, west))\n",
    "    \n",
    "    # Perforn a Kruskal test assuming population medians are not equal\n",
    "    print('\\033[1m' + '\\nKruskal test' + '\\033[0m')\n",
    "    print(stats.kruskal(northeast, south, midwest, west))\n",
    "        \n",
    "    return"
   ]
  },
  {
   "cell_type": "markdown",
   "metadata": {},
   "source": [
    "## Create the data sets for Asset testing amongst regions"
   ]
  },
  {
   "cell_type": "code",
   "execution_count": null,
   "metadata": {},
   "outputs": [],
   "source": [
    "# Create a new datafram for testing assets\n",
    "assets = pd.DataFrame(gov_data[[\"REGION\", \"CASSETS\", \"LEVEL1\"]]).set_index(\"REGION\")\n",
    "\n",
    "# Now split the data by Public Charity vs Private Foundation (LEVEL1)\n",
    "assets_pc = assets.loc[(assets[\"LEVEL1\"] == \"PC\"),\"CASSETS\"].reset_index()\n",
    "assets_pf = assets.loc[(assets[\"LEVEL1\"] == \"PF\"),\"CASSETS\"].reset_index()\n",
    "\n",
    "# Finally split the data by region\n",
    "assets_pf_ne = assets_pf.loc[(assets_pf[\"REGION\"] == \"NORTHEAST\"),\"CASSETS\"]\n",
    "assets_pf_s = assets_pf.loc[(assets_pf[\"REGION\"] == \"SOUTH\"),\"CASSETS\"]\n",
    "assets_pf_mw = assets_pf.loc[(assets_pf[\"REGION\"] == \"MIDWEST\"),\"CASSETS\"]\n",
    "assets_pf_w = assets_pf.loc[(assets_pf[\"REGION\"] == \"WEST\"),\"CASSETS\"]\n",
    "\n",
    "assets_pc_ne = assets_pc.loc[(assets_pc[\"REGION\"] == \"NORTHEAST\"),\"CASSETS\"]\n",
    "assets_pc_s = assets_pc.loc[(assets_pc[\"REGION\"] == \"SOUTH\"),\"CASSETS\"]\n",
    "assets_pc_mw = assets_pc.loc[(assets_pc[\"REGION\"] == \"MIDWEST\"),\"CASSETS\"]\n",
    "assets_pc_w = assets_pc.loc[(assets_pc[\"REGION\"] == \"WEST\"),\"CASSETS\"]"
   ]
  },
  {
   "cell_type": "markdown",
   "metadata": {},
   "source": [
    "## Create the data sets for Revenue testing amongst regions"
   ]
  },
  {
   "cell_type": "code",
   "execution_count": null,
   "metadata": {},
   "outputs": [],
   "source": [
    "# Create a new datafram for testing revenue\n",
    "revenue = pd.DataFrame(gov_data[[\"REGION\", \"CTOTREV\", \"LEVEL1\"]]).set_index(\"REGION\")\n",
    "\n",
    "# Now split the data by Public Charity vs Private Foundation (LEVEL1)\n",
    "rev_pc = revenue.loc[(revenue[\"LEVEL1\"] == \"PC\"),\"CTOTREV\"].reset_index()\n",
    "rev_pf = revenue.loc[(revenue[\"LEVEL1\"] == \"PF\"),\"CTOTREV\"].reset_index()\n",
    "\n",
    "# Finally split the data by region\n",
    "rev_pf_ne = rev_pf.loc[(rev_pf[\"REGION\"] == \"NORTHEAST\"),\"CTOTREV\"]\n",
    "rev_pf_s = rev_pf.loc[(rev_pf[\"REGION\"] == \"SOUTH\"),\"CTOTREV\"]\n",
    "rev_pf_mw = rev_pf.loc[(rev_pf[\"REGION\"] == \"MIDWEST\"),\"CTOTREV\"]\n",
    "rev_pf_w = rev_pf.loc[(rev_pf[\"REGION\"] == \"WEST\"),\"CTOTREV\"]\n",
    "\n",
    "rev_pc_ne = rev_pc.loc[(rev_pc[\"REGION\"] == \"NORTHEAST\"),\"CTOTREV\"]\n",
    "rev_pc_s = rev_pc.loc[(rev_pc[\"REGION\"] == \"SOUTH\"),\"CTOTREV\"]\n",
    "rev_pc_mw = rev_pc.loc[(rev_pc[\"REGION\"] == \"MIDWEST\"),\"CTOTREV\"]\n",
    "rev_pc_w = rev_pc.loc[(rev_pc[\"REGION\"] == \"WEST\"),\"CTOTREV\"]"
   ]
  },
  {
   "cell_type": "markdown",
   "metadata": {},
   "source": [
    "# Null Hypothesis:  Private foundation assets are equal across regions."
   ]
  },
  {
   "cell_type": "code",
   "execution_count": null,
   "metadata": {},
   "outputs": [],
   "source": [
    "# Compare the four regions assets for Private Foundations\n",
    "populationCompare(assets_pf_ne, assets_pf_s, assets_pf_mw, assets_pf_w,\n",
    "        \"Private Foundation Assets\", \"Assets ($)\")"
   ]
  },
  {
   "cell_type": "markdown",
   "metadata": {},
   "source": [
    "# Null Hypothesis:  Public Charity assets are equal across regions."
   ]
  },
  {
   "cell_type": "code",
   "execution_count": null,
   "metadata": {},
   "outputs": [],
   "source": [
    "# Compare the four regions assets for Public Charities\n",
    "populationCompare(assets_pc_ne, assets_pc_s, assets_pc_mw, assets_pc_w,\n",
    "        \"Public Charities Assets\", \"Assets ($)\")"
   ]
  },
  {
   "cell_type": "markdown",
   "metadata": {},
   "source": [
    "# Null Hypothesis:  Private foundation revenue is equal across regions."
   ]
  },
  {
   "cell_type": "code",
   "execution_count": null,
   "metadata": {},
   "outputs": [],
   "source": [
    "# Compare the four regions revenue for Private Foundations\n",
    "populationCompare(rev_pf_ne, rev_pf_s, rev_pf_mw, rev_pf_w,\n",
    "        \"Private Foundation Revenue\", \"Revenue ($)\")"
   ]
  },
  {
   "cell_type": "markdown",
   "metadata": {},
   "source": [
    "# Null Hypothesis:  Public Charity revenue is equal across regions."
   ]
  },
  {
   "cell_type": "code",
   "execution_count": null,
   "metadata": {},
   "outputs": [],
   "source": [
    "# Compare the four regions revenue for Public Charities\n",
    "populationCompare(rev_pc_ne, rev_pc_s, rev_pc_mw, rev_pc_w,\n",
    "        \"Public Charity Revenue\", \"Revenue ($)\")"
   ]
  },
  {
   "cell_type": "markdown",
   "metadata": {},
   "source": [
    "# Based on results, look at means and medians for populations"
   ]
  },
  {
   "cell_type": "code",
   "execution_count": null,
   "metadata": {},
   "outputs": [],
   "source": [
    "# Create means\n",
    "asset_pc_means = assets_pc.groupby([\"REGION\"]).mean()\n",
    "asset_pf_means = assets_pf.groupby([\"REGION\"]).mean()\n",
    "rev_pc_means = rev_pc.groupby([\"REGION\"]).mean()\n",
    "rev_pf_means = rev_pf.groupby([\"REGION\"]).mean()\n",
    "\n",
    "# Create medians\n",
    "asset_pc_medians = assets_pc.groupby([\"REGION\"]).median()\n",
    "asset_pf_medians = assets_pf.groupby([\"REGION\"]).median()\n",
    "rev_pc_medians = rev_pc.groupby([\"REGION\"]).median()\n",
    "rev_pf_medians = rev_pf.groupby([\"REGION\"]).median()"
   ]
  },
  {
   "cell_type": "markdown",
   "metadata": {},
   "source": [
    "# Compare means first (ANOVA results)"
   ]
  },
  {
   "cell_type": "code",
   "execution_count": null,
   "metadata": {},
   "outputs": [],
   "source": [
    "def plotbyRegion(series1, series2, ylabel, title, series_label1, series_label2):\n",
    "    \n",
    "    # Set the figure size\n",
    "    plt.figure(figsize=(4,4))\n",
    "    \n",
    "    # plot the values\n",
    "    plt.plot(series1, label=series_label1, color='b', marker='o')\n",
    "    plt.plot(series2, label=series_label2, color='g', marker='o')\n",
    "    \n",
    "    # add labels, etc.\n",
    "    plt.title(title, weight='bold', size=14)\n",
    "    plt.xlabel(\"Region\")\n",
    "    plt.ylabel(ylabel)\n",
    "    plt.grid(alpha=0.5)\n",
    "    plt.legend(loc='best')\n",
    "    \n",
    "    # save the graph\n",
    "    plt.savefig('./Output/' + title.replace(\" \", \"\") + '.png')\n",
    "\n",
    "    return"
   ]
  },
  {
   "cell_type": "code",
   "execution_count": null,
   "metadata": {},
   "outputs": [],
   "source": [
    "# Plot by region and type the median assets and revenue\n",
    "plotbyRegion(asset_pc_medians, asset_pf_medians, \"Assets ($)\", \"Median Assets by Region\", \n",
    "             \"Public Charity\", \"Private Foundation\")\n",
    "\n",
    "plotbyRegion(rev_pc_medians, rev_pf_medians, \"Revenue ($)\", \"Median Revenue by Region\", \n",
    "             \"Public Charity\", \"Private Foundation\")"
   ]
  },
  {
   "cell_type": "code",
   "execution_count": null,
   "metadata": {},
   "outputs": [],
   "source": [
    "# Plot by region and type the mean assets and revenue\n",
    "plotbyRegion(asset_pc_means, asset_pf_means, \"Assets ($)\", \"Mean Assets by Region\", \n",
    "             \"Public Charity\", \"Private Foundation\")\n",
    "\n",
    "plotbyRegion(rev_pc_means, rev_pf_means, \"Revenue ($)\", \"Mean Revenue by Region\", \n",
    "             \"Public Charity\", \"Private Foundation\")"
   ]
  },
  {
   "cell_type": "code",
   "execution_count": null,
   "metadata": {},
   "outputs": [],
   "source": []
  }
 ],
 "metadata": {
  "kernelspec": {
   "display_name": "Python 3",
   "language": "python",
   "name": "python3"
  },
  "language_info": {
   "codemirror_mode": {
    "name": "ipython",
    "version": 3
   },
   "file_extension": ".py",
   "mimetype": "text/x-python",
   "name": "python",
   "nbconvert_exporter": "python",
   "pygments_lexer": "ipython3",
   "version": "3.6.9"
  }
 },
 "nbformat": 4,
 "nbformat_minor": 2
}
