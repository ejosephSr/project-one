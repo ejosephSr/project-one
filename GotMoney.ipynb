{
 "cells": [
  {
   "cell_type": "markdown",
   "metadata": {},
   "source": [
    "# Import Python Libraries\n",
    "## Libraries Used\n",
    "##### Pandas\n",
    "Data manipulation and analysis\n",
    "##### MatPlotLib Pyplot\n",
    "2D plotting\n",
    "##### Numpy\n",
    "Supports large, multi-dimensional arrays and matrix manipulation and high level mathematical functions on these arrays\n",
    "##### Scipy Stats\n",
    "Hypothesis testing"
   ]
  },
  {
   "cell_type": "code",
   "execution_count": null,
   "metadata": {},
   "outputs": [],
   "source": [
    "# Perform library imports\n",
    "import pandas as pd\n",
    "import matplotlib.pyplot as plt\n",
    "import numpy as np\n",
    "import scipy.stats as stats"
   ]
  },
  {
   "cell_type": "markdown",
   "metadata": {},
   "source": [
    "### Import Data Dictionaries to Convert Codes to Descriptions\n",
    "\n",
    "##### Sources\n",
    "\n",
    "Non-Profit Data - NCSS Data Archive:  https://nccs-data.urban.org/dd2.php?close=1&form=BMF+08/2016\n",
    "\n",
    "Region Data - https://www2.census.gov/geo/pdfs/maps-data/maps/reference/us_regdiv.pdf\n",
    "\n",
    "##### Non-Profit Method\n",
    "* Created text files in json format within Visual Studio for each Data Dictionary\n",
    "* Saved files to Resources folder\n",
    "* Used pandas library to read the files into dataframes"
   ]
  },
  {
   "cell_type": "code",
   "execution_count": null,
   "metadata": {},
   "outputs": [],
   "source": [
    "# Import Level1 Data Dictionary and display : NOTE - This is only a break out of Public Charities\n",
    "file_Level1 = \"./Resources/NCSSDataDictLevel1.txt\"\n",
    "dict_Level1 = pd.read_json(file_Level1)\n",
    "dict_Level1"
   ]
  },
  {
   "cell_type": "code",
   "execution_count": null,
   "metadata": {},
   "outputs": [],
   "source": [
    "# Import Region csv file\n",
    "region_csv = './Resources/State_region.csv'\n",
    "df_region = pd.read_csv(region_csv)\n",
    "df_region"
   ]
  },
  {
   "cell_type": "code",
   "execution_count": null,
   "metadata": {},
   "outputs": [],
   "source": [
    "# Import Category name data\n",
    "gov_data_ntmaj10_csv = \"./Resources/ntmaj10_values.csv\"\n",
    "gov_data_ntmaj10_df = pd.read_csv(gov_data_ntmaj10_csv)\n",
    "gov_data_ntmaj10_df"
   ]
  },
  {
   "cell_type": "markdown",
   "metadata": {},
   "source": [
    "### Import IRS Business Master Files\n",
    "\n",
    "##### Source\n",
    "NCSS Data Archive\n",
    "https://nccs-data.urban.org/data.php?ds=bmf\n",
    "\n",
    "##### File\n",
    "bmf.bm1812.csv"
   ]
  },
  {
   "cell_type": "code",
   "execution_count": null,
   "metadata": {},
   "outputs": [],
   "source": [
    "# specify file name\n",
    "gov_data_file = \"./Resources/2018_BMF.csv\"\n",
    "\n",
    "# import file\n",
    "gov_data = pd.read_csv(gov_data_file, low_memory=False)\n",
    "\n",
    "# Display resulting dataframe header\n",
    "gov_data.head()"
   ]
  },
  {
   "cell_type": "markdown",
   "metadata": {},
   "source": [
    "# Data Cleaning Phase\n"
   ]
  },
  {
   "cell_type": "code",
   "execution_count": null,
   "metadata": {},
   "outputs": [],
   "source": [
    "gov_data.count()"
   ]
  },
  {
   "cell_type": "code",
   "execution_count": null,
   "metadata": {},
   "outputs": [],
   "source": [
    "# Select only the columns of data we need for analysis\n",
    "gov_data = gov_data[[\"EIN\", \"CTOTREV\", \"CASSETS\", \"NAME\", \"CITY\", \"STATE\", \"NTMAJ10\", \"LEVEL1\", \"OUTNCCS\"]]"
   ]
  },
  {
   "cell_type": "code",
   "execution_count": null,
   "metadata": {},
   "outputs": [],
   "source": [
    "# check the number of data rows per column\n",
    "gov_data.count()"
   ]
  },
  {
   "cell_type": "code",
   "execution_count": null,
   "metadata": {},
   "outputs": [],
   "source": [
    "# display the data read in\n",
    "gov_data"
   ]
  },
  {
   "cell_type": "code",
   "execution_count": null,
   "metadata": {},
   "outputs": [],
   "source": [
    "indexNames = gov_data[gov_data[\"OUTNCCS\"]!=\"IN\"].index\n",
    "len(indexNames)"
   ]
  },
  {
   "cell_type": "code",
   "execution_count": null,
   "metadata": {},
   "outputs": [],
   "source": [
    "# drop the rows identified and show the resulting dataframe\n",
    "gov_data.drop(indexNames, inplace=True)\n",
    "gov_data.head()"
   ]
  },
  {
   "cell_type": "code",
   "execution_count": null,
   "metadata": {},
   "outputs": [],
   "source": [
    "gov_data.count()"
   ]
  },
  {
   "cell_type": "code",
   "execution_count": null,
   "metadata": {},
   "outputs": [],
   "source": [
    "# identify the indices of rows we want to eliminate and display how many rows are found\n",
    "indexNames = gov_data[gov_data[\"LEVEL1\"]==\"O\"].index\n",
    "len(indexNames)"
   ]
  },
  {
   "cell_type": "code",
   "execution_count": null,
   "metadata": {},
   "outputs": [],
   "source": [
    "# drop the rows identified and show the resulting dataframe\n",
    "gov_data.drop(indexNames, inplace=True)\n",
    "gov_data.head()"
   ]
  },
  {
   "cell_type": "code",
   "execution_count": null,
   "metadata": {},
   "outputs": [],
   "source": [
    "# identify the indices of rows we want to eliminate and display how many rows\n",
    "indexNames = gov_data[gov_data[\"LEVEL1\"]==\"U\"].index\n",
    "len(indexNames)"
   ]
  },
  {
   "cell_type": "code",
   "execution_count": null,
   "metadata": {},
   "outputs": [],
   "source": [
    "# drop the rows identified and show the resulting dataframe\n",
    "gov_data.drop(indexNames, inplace=True)\n",
    "gov_data.head()"
   ]
  },
  {
   "cell_type": "code",
   "execution_count": null,
   "metadata": {},
   "outputs": [],
   "source": [
    "# Determine if rows are even yet\n",
    "gov_data.count()"
   ]
  },
  {
   "cell_type": "code",
   "execution_count": null,
   "metadata": {},
   "outputs": [],
   "source": [
    "# drop invalid rows and display\n",
    "gov_data.dropna(axis=0, how='any', inplace=True)\n",
    "gov_data"
   ]
  },
  {
   "cell_type": "code",
   "execution_count": null,
   "metadata": {},
   "outputs": [],
   "source": [
    "# Determine the remaining count of rows and ensure our data set is full (no uneven row counts)\n",
    "gov_data.count()"
   ]
  },
  {
   "cell_type": "markdown",
   "metadata": {},
   "source": [
    "# Merge Region Data"
   ]
  },
  {
   "cell_type": "code",
   "execution_count": null,
   "metadata": {},
   "outputs": [],
   "source": [
    "# Merge Region and gov_data\n",
    "gov_data = pd.merge(gov_data, df_region, on= \"STATE\", how=\"inner\")\n",
    "gov_data"
   ]
  },
  {
   "cell_type": "markdown",
   "metadata": {},
   "source": [
    "# Save file"
   ]
  },
  {
   "cell_type": "code",
   "execution_count": null,
   "metadata": {},
   "outputs": [],
   "source": [
    "gov_data.to_csv(index=False, path_or_buf=\"./Resources/gov_data.csv\")"
   ]
  },
  {
   "cell_type": "markdown",
   "metadata": {},
   "source": [
    "## Create the data sets for Asset testing amongst regions"
   ]
  },
  {
   "cell_type": "code",
   "execution_count": null,
   "metadata": {},
   "outputs": [],
   "source": [
    "# Create a new datafram for testing assets\n",
    "assets = pd.DataFrame(gov_data[[\"REGION\", \"CASSETS\", \"LEVEL1\"]]).set_index(\"REGION\")\n",
    "\n",
    "# Now split the data by Public Charity vs Private Foundation (LEVEL1)\n",
    "assets_pc = assets.loc[(assets[\"LEVEL1\"] == \"PC\"),\"CASSETS\"].reset_index()\n",
    "assets_pf = assets.loc[(assets[\"LEVEL1\"] == \"PF\"),\"CASSETS\"].reset_index()\n",
    "\n",
    "# Finally split the data by region\n",
    "assets_pf_ne = assets_pf.loc[(assets_pf[\"REGION\"] == \"NORTHEAST\"),\"CASSETS\"]\n",
    "assets_pf_s = assets_pf.loc[(assets_pf[\"REGION\"] == \"SOUTH\"),\"CASSETS\"]\n",
    "assets_pf_mw = assets_pf.loc[(assets_pf[\"REGION\"] == \"MIDWEST\"),\"CASSETS\"]\n",
    "assets_pf_w = assets_pf.loc[(assets_pf[\"REGION\"] == \"WEST\"),\"CASSETS\"]\n",
    "\n",
    "assets_pc_ne = assets_pc.loc[(assets_pc[\"REGION\"] == \"NORTHEAST\"),\"CASSETS\"]\n",
    "assets_pc_s = assets_pc.loc[(assets_pc[\"REGION\"] == \"SOUTH\"),\"CASSETS\"]\n",
    "assets_pc_mw = assets_pc.loc[(assets_pc[\"REGION\"] == \"MIDWEST\"),\"CASSETS\"]\n",
    "assets_pc_w = assets_pc.loc[(assets_pc[\"REGION\"] == \"WEST\"),\"CASSETS\"]"
   ]
  },
  {
   "cell_type": "markdown",
   "metadata": {},
   "source": [
    "## Create the data sets for Revenue testing amongst regions"
   ]
  },
  {
   "cell_type": "code",
   "execution_count": null,
   "metadata": {},
   "outputs": [],
   "source": [
    "# Create a new datafram for testing revenue\n",
    "revenue = pd.DataFrame(gov_data[[\"REGION\", \"CTOTREV\", \"LEVEL1\"]]).set_index(\"REGION\")\n",
    "\n",
    "# Now split the data by Public Charity vs Private Foundation (LEVEL1)\n",
    "rev_pc = revenue.loc[(revenue[\"LEVEL1\"] == \"PC\"),\"CTOTREV\"].reset_index()\n",
    "rev_pf = revenue.loc[(revenue[\"LEVEL1\"] == \"PF\"),\"CTOTREV\"].reset_index()\n",
    "\n",
    "# Finally split the data by region\n",
    "rev_pf_ne = rev_pf.loc[(rev_pf[\"REGION\"] == \"NORTHEAST\"),\"CTOTREV\"]\n",
    "rev_pf_s = rev_pf.loc[(rev_pf[\"REGION\"] == \"SOUTH\"),\"CTOTREV\"]\n",
    "rev_pf_mw = rev_pf.loc[(rev_pf[\"REGION\"] == \"MIDWEST\"),\"CTOTREV\"]\n",
    "rev_pf_w = rev_pf.loc[(rev_pf[\"REGION\"] == \"WEST\"),\"CTOTREV\"]\n",
    "\n",
    "rev_pc_ne = rev_pc.loc[(rev_pc[\"REGION\"] == \"NORTHEAST\"),\"CTOTREV\"]\n",
    "rev_pc_s = rev_pc.loc[(rev_pc[\"REGION\"] == \"SOUTH\"),\"CTOTREV\"]\n",
    "rev_pc_mw = rev_pc.loc[(rev_pc[\"REGION\"] == \"MIDWEST\"),\"CTOTREV\"]\n",
    "rev_pc_w = rev_pc.loc[(rev_pc[\"REGION\"] == \"WEST\"),\"CTOTREV\"]"
   ]
  },
  {
   "cell_type": "markdown",
   "metadata": {},
   "source": [
    "# Review Basic Statistics of the Remaining Data\n",
    "* Run basic statistics on the numeric columns\n"
   ]
  },
  {
   "cell_type": "code",
   "execution_count": null,
   "metadata": {},
   "outputs": [],
   "source": [
    "gov_data.describe()"
   ]
  },
  {
   "cell_type": "markdown",
   "metadata": {},
   "source": [
    "# Beth's section - Visualization 1-3"
   ]
  },
  {
   "cell_type": "code",
   "execution_count": null,
   "metadata": {},
   "outputs": [],
   "source": [
    "bethdf=pd.read_csv(\"./Resources/gov_data.csv\")\n",
    "medians=bethdf.groupby([\"REGION\",\"LEVEL1\"]).agg({'median'}).reset_index()\n",
    "medians.values.tolist()\n",
    "medians\n"
   ]
  },
  {
   "cell_type": "code",
   "execution_count": null,
   "metadata": {},
   "outputs": [],
   "source": [
    "df_medians = pd.DataFrame(medians)\n",
    "df_medians\n",
    "\n"
   ]
  },
  {
   "cell_type": "code",
   "execution_count": null,
   "metadata": {},
   "outputs": [],
   "source": [
    "df = pd.DataFrame({\"REGION\": [\"MIDWEST\", \"MIDWEST\", \"NORTHEAST\", \"NORTHEAST\", \"SOUTH\", \"SOUTH\", \"WEST\", \"WEST\"],\n",
    "                   \"LEVEL1\": [\"PC\", \"PF\", \"PC\", \"PF\",\"PC\", \"PF\",\"PC\", \"PF\"],\n",
    "                   \"EIN\":    [370964193.5, 382597740.0, 223236840.0, 256788940.0, 541459968.0, 465294746.0, 680362025.0, 464309410.5],\n",
    "                   \"CTOTREV\": [130582.0, 32055.0, 128860.0, 35650.5, 117983.0, 21784.0, 120796.0, 28673.0],\n",
    "                   \"CASSETS\": [171237.5, 233340.5, 184787.0, 103147.5, 116135.0, 20009.0, 103491.0, 29364.5]})"
   ]
  },
  {
   "cell_type": "code",
   "execution_count": null,
   "metadata": {},
   "outputs": [],
   "source": [
    "ein_df = df[[\"REGION\", \"LEVEL1\", \"EIN\"]].pivot(index=\"REGION\", columns=\"LEVEL1\", values=\"EIN\")\n",
    "ctotrev_df = df[[\"REGION\", \"LEVEL1\", \"CTOTREV\"]].pivot(index=\"REGION\", columns=\"LEVEL1\", values=\"CTOTREV\")\n",
    "cassets_df = df[[\"REGION\", \"LEVEL1\", \"CASSETS\"]].pivot(index=\"REGION\", columns=\"LEVEL1\", values=\"CASSETS\")"
   ]
  },
  {
   "cell_type": "code",
   "execution_count": null,
   "metadata": {},
   "outputs": [],
   "source": [
    "ctotrev_df"
   ]
  },
  {
   "cell_type": "code",
   "execution_count": null,
   "metadata": {},
   "outputs": [],
   "source": [
    "rev_chart = ctotrev_df.plot(kind='bar')\n",
    "rev_chart.set_xlabel(\"Region\")\n",
    "rev_chart.set_ylabel(\"Total Revenue\")\n",
    "plt.title(\"Revenue vs Region\")"
   ]
  },
  {
   "cell_type": "code",
   "execution_count": null,
   "metadata": {},
   "outputs": [],
   "source": [
    "asset_chart = cassets_df.plot(kind='bar')\n",
    "asset_chart.set_xlabel(\"Region\")\n",
    "asset_chart.set_ylabel(\"Total Asset\")\n",
    "plt.title(\"Asset vs Region\")"
   ]
  },
  {
   "cell_type": "code",
   "execution_count": null,
   "metadata": {},
   "outputs": [],
   "source": [
    "# df_medians[\"CASSETS\"],df_medians[\"CTOTREV\"]"
   ]
  },
  {
   "cell_type": "code",
   "execution_count": null,
   "metadata": {},
   "outputs": [],
   "source": [
    "# df_medians.dtypes,df_medians.info()"
   ]
  },
  {
   "cell_type": "code",
   "execution_count": null,
   "metadata": {},
   "outputs": [],
   "source": [
    "# df_medians.rename(columns={'EIN, median':'EIN','CTOTREV, median':'Revenue','CASSETS, median':'Assets'})\n"
   ]
  },
  {
   "cell_type": "code",
   "execution_count": null,
   "metadata": {},
   "outputs": [],
   "source": [
    "# df_medians.pivot_table(index=['REGION','LEVEL1'],values=['']"
   ]
  },
  {
   "cell_type": "code",
   "execution_count": null,
   "metadata": {},
   "outputs": [],
   "source": [
    "# assets = [171237.5, 233340.5, 162787.0, 103147.5, 116135.0, 20009.0, 103491.0, 29364.5]\n",
    "# revenues = [130582.0, 32055.0, 128860.0, 35650.5, 117983.0, 21794.0, 120796.0, 28673.0]\n",
    "# # types = ['PC','PF','PC','PF','PC','PF','PC','PF']\n",
    "# index = [\"MidwestPC\",\"MidwestPF\",\"NortheastPC\",\"NortheastPF\",\"SouthPC\",\"SouthPF\",\"WestPC\",\"WestPF\"]\n",
    "\n",
    "# assets_df = pd.DataFrame(assets, index=index)\n",
    "# ax = df_medians.plot.bar(rot=0)"
   ]
  },
  {
   "cell_type": "code",
   "execution_count": null,
   "metadata": {},
   "outputs": [],
   "source": [
    "# df_medians[\"REGION\"] = df_medians[\"REGION\"].str.replace('/','')\n",
    "# df_medians[\"LEVEL1\"] = df_medians[\"LEVEL1\"].str.replace('/','')\n",
    "# df_medians.dtypes"
   ]
  },
  {
   "cell_type": "code",
   "execution_count": null,
   "metadata": {},
   "outputs": [],
   "source": [
    "# d = {\"REGION\": [\"MIDWEST\",\"NORTHEAST\",\"SOUTH\",\"WEST\"],\n",
    "#      'colors': ['red','black','blue','dog']}\n",
    "\n",
    "# keys = [k for k in d.keys() for v in d[k]]\n",
    "# values = [v for k in d.keys() for v in d[k]]\n",
    "# pd.DataFrame.from_dict({'index': keys, 'values': values})\n",
    "\n"
   ]
  },
  {
   "cell_type": "code",
   "execution_count": null,
   "metadata": {},
   "outputs": [],
   "source": [
    "\n",
    "# assets_bar=(bethdf.groupby([\"REGION\",\"LEVEL1\"]).agg({\"CASSETS\":['median']})).reset_index()\n",
    "# assets_bar"
   ]
  },
  {
   "cell_type": "code",
   "execution_count": null,
   "metadata": {},
   "outputs": [],
   "source": [
    "# print(df_medians.index)"
   ]
  },
  {
   "cell_type": "code",
   "execution_count": null,
   "metadata": {},
   "outputs": [],
   "source": [
    "# print(bethdf.groupby([\"REGION\",\"LEVEL1\"]).agg({\"CTOTREV\":['median']}))\n",
    "# print(bethdf.groupby([\"REGION\",\"LEVEL1\"]).agg({\"EIN\":['count']}))"
   ]
  },
  {
   "cell_type": "markdown",
   "metadata": {},
   "source": [
    "# Emile's section - Visualization 4"
   ]
  },
  {
   "cell_type": "code",
   "execution_count": null,
   "metadata": {},
   "outputs": [],
   "source": []
  },
  {
   "cell_type": "markdown",
   "metadata": {},
   "source": [
    "# Scott's section - Visualization 5"
   ]
  },
  {
   "cell_type": "code",
   "execution_count": null,
   "metadata": {},
   "outputs": [],
   "source": []
  },
  {
   "cell_type": "markdown",
   "metadata": {},
   "source": [
    "# Deanna section - Visualization 6-7"
   ]
  },
  {
   "cell_type": "code",
   "execution_count": null,
   "metadata": {},
   "outputs": [],
   "source": [
    "# Create pie charts, for comparison purposes for the number of NTMAJ10 organization categories for \n",
    "# public charities and for the private foundations\n",
    "\n",
    "#List unique values in the gov_data['NTMAJ10'] column\n",
    "\n",
    "gov_data.NTMAJ10.unique()\n",
    "\n",
    "#Create dataframe to use for pie chart creation from original datasource\n",
    "gov_data_ntmaj10 = gov_data"
   ]
  },
  {
   "cell_type": "code",
   "execution_count": null,
   "metadata": {},
   "outputs": [],
   "source": [
    "# Merge NTMAJ10 to include the long name of the NTMAJ10 column\n",
    "gov_data_ntmaj10_merged = pd.merge(gov_data, gov_data_ntmaj10_df, on= \"NTMAJ10\", how=\"inner\")\n",
    "gov_data_ntmaj10_merged"
   ]
  },
  {
<<<<<<< HEAD
   "cell_type": "code",
   "execution_count": null,
   "metadata": {},
   "outputs": [],
=======
   "cell_type": "markdown",
   "metadata": {},
>>>>>>> piecleanup
   "source": [
    "##### Public Charity - NTEE Major Category Breakdown"
   ]
  },
  {
   "cell_type": "code",
   "execution_count": null,
   "metadata": {},
   "outputs": [],
   "source": [
    "# Apply filter where Level 1 is PC\n",
    "gov_data_level1_pc = gov_data_ntmaj10_merged[gov_data_ntmaj10_merged.LEVEL1 == \"PC\"]\n",
    "\n",
    "# count NTMAJ10 values for PC group level 1\n",
    "pc_ntmaj10_count = gov_data_ntmaj10_merged[\"Long_Name\"].value_counts() \n",
    "pc_ntmaj10_count"
   ]
  },
  {
<<<<<<< HEAD
   "cell_type": "markdown",
=======
   "cell_type": "code",
   "execution_count": null,
>>>>>>> piecleanup
   "metadata": {},
   "source": [
<<<<<<< HEAD
    "##### Public Charity - NTEE Major Category Breakdown Pie Chart"
   ]
  },
  {
   "cell_type": "code",
   "execution_count": null,
   "metadata": {},
   "outputs": [],
   "source": [
=======
>>>>>>> piecleanup
    "#create pie chart \n",
    "# set colors\n",
    "colors = [\"#845D7D\",\"#6A6E91\",\"#8F4F62\",\"#298B8C\",\"#477E96\",\"#379576\",\"#5F9B5C\",\"#8B9C46\",\"#B89840\",\"#E09151\"]\n",
    "\n",
    "# set labels\n",
    "ntmaj10_labels_pc = [\"Human Services\", \"Education\", \"Public Benefit\", \"Health\", \"Arts\", \n",
    "                     \"Religion\", \"Environment\", \"International\", \"Mutual Benefit\", \"Unknown\"]\n",
    "\n",
    "# create pie chart\n",
    "plt.pie(pc_ntmaj10_count, labels = ntmaj10_labels_pc, labeldistance = None, shadow = False, colors = colors, \n",
    "        explode=(0,0,0,0,0,0,0,0,0,0), startangle = 90, autopct='%1.1f%%')\n",
    "plt.axis(\"equal\")\n",
    "\n",
    "# add legend, title, size\n",
    "plt.legend(labels=ntmaj10_labels_pf, fontsize=14, loc=\"center right\", bbox_to_anchor=(1, 0, .5, 1))\n",
    "plt.title(\"Public Charity - NTEE Major Category Breakdown\", y=1, weight='bold', size=14)\n",
    "fig = plt.gcf()\n",
    "fig.set_size_inches(6,6)\n",
    "plt.show()"
   ]
  },
  {
   "cell_type": "markdown",
   "metadata": {},
   "source": [
    "##### Private Foundation - NTEE Major Category Breakdown"
   ]
  },
  {
   "cell_type": "markdown",
   "metadata": {},
   "source": [
    "# Apply filter whereLevel 1 is PF\n",
    "gov_data_level1_pf = gov_data_ntmaj10_merged[gov_data_ntmaj10_merged.LEVEL1 == \"PF\"]\n",
    "\n",
    "# count NTMAJ10 values for PF group level 1\n",
    "pf_ntmaj10_count = gov_data_level1_pf[\"Long_Name\"].value_counts() \n",
    "pf_ntmaj10_count"
   ]
  },
  {
   "cell_type": "code",
   "execution_count": null,
   "metadata": {},
   "outputs": [],
   "source": [
    "# set colors\n",
    "colors = [\"#8F4F62\",\"#845D7D\",\"#6A6E91\",\"#477E96\",\"#298B8C\",\"#379576\",\"#5F9B5C\",\"#8B9C46\",\"#B89840\",\"#E09151\"]\n",
    "\n",
    "# set labels\n",
    "ntmaj10_labels_pf = [\"Public Benefit\", \"Human Services\", \"Education\", \"Arts\", \n",
    "                     \"Health\", \"Religion\", \"Environment\", \"International\", \"Mutual Benefit\", \"Unknown\"]\n",
    "\n",
    "# create pie chart\n",
    "plt.pie(pf_ntmaj10_count, labels = ntmaj10_labels_pf, labeldistance = None, shadow = False, colors = colors, \n",
    "        explode=(0,0,0,0,0,0,0,0,0,0), startangle = 90, autopct='%1.1f%%')\n",
    "plt.axis(\"equal\")\n",
    "\n",
    "# add legend, title, size\n",
    "plt.legend(labels=ntmaj10_labels_pf, fontsize=14, loc=\"center right\", bbox_to_anchor=(1, 0, .5, 1))\n",
    "plt.title(\"Private Foundation - NTEE Major Category Breakdown\", y=1, weight='bold', size=14)\n",
    "fig = plt.gcf()\n",
    "fig.set_size_inches(6,6)\n",
    "\n",
    "# show pie chart\n",
    "plt.show()"
   ]
  },
  {
   "cell_type": "markdown",
   "metadata": {},
   "source": [
    "# Katherine's section - Hypothesis Testing"
   ]
  },
  {
   "cell_type": "markdown",
   "metadata": {},
   "source": [
    "### Create a function to compare four populations (Northeast, South, Midwest, West)\n",
    "##### Inputs\n",
    "* Four series (populations)\n",
    "* Title\n",
    "* yAxis label\n",
    "\n",
    "##### Displays\n",
    "* Boxplot\n",
    "* ANOVA\n",
    "* Kruskal Wallis tests"
   ]
  },
  {
   "cell_type": "markdown",
   "metadata": {},
   "source": [
    "# Create a function to plot four regional boxplots, perform ANOVA and Kruskal hypothesis tests"
   ]
  },
  {
   "cell_type": "code",
   "execution_count": null,
   "metadata": {},
   "outputs": [],
   "source": [
    "# Function comparing four populations by Boxplots\n",
    "def boxPlotCompare(northeast, south, midwest, west, title, y_label):\n",
    "    \n",
    "    # Set the figure size\n",
    "    fig = plt.figure(figsize=(20,8))\n",
    "    axBox = fig.add_subplot()\n",
    "    \n",
    "    # Show box plots of the data\n",
    "    box_plot_data=[northeast, south, midwest, west]\n",
    "    plt.boxplot(box_plot_data)\n",
    "    plt.title(title, color='k', size=24, weight='bold')\n",
    "    plt.xticks([1, 2, 3, 4], ['Northeast', 'South', 'Midwest', 'West'])\n",
    "    \n",
    "    # KEY!  Set the scale to logrithmic\n",
    "    axBox.set_yscale('log')\n",
    "    plt.xlabel(\"Region\", size=14, weight='bold')\n",
    "    plt.ylabel(y_label, size=14, weight='bold')\n",
    "    plt.show()\n",
    "    \n",
    "    # Perform an ANOVA test assuming populations are not equal\n",
    "    print('\\033[1m' + '\\nANOVA test' + '\\033[0m')\n",
    "    print(stats.f_oneway(northeast, south, midwest, west))\n",
    "    \n",
    "    # Perforn a Kruskal test assuming population medians are not equal\n",
    "    print('\\033[1m' + '\\nKruskal test' + '\\033[0m')\n",
    "    print(stats.kruskal(northeast, south, midwest, west))\n",
    "    \n",
    "    # Because we found many differences, compare 1 to 1    \n",
    "    print('\\033[1m' + '\\nKruskal test - NE to S' + '\\033[0m')\n",
    "    print(stats.kruskal(northeast, south))\n",
    "    \n",
    "    print('\\033[1m' + '\\nKruskal test - NE to MW' + '\\033[0m')\n",
    "    print(stats.kruskal(northeast, midwest))\n",
    "\n",
    "    print('\\033[1m' + '\\nKruskal test - NE to W' + '\\033[0m')\n",
    "    print(stats.kruskal(northeast, west))\n",
    "\n",
    "    print('\\033[1m' + '\\nKruskal test - S to MW' + '\\033[0m')\n",
    "    print(stats.kruskal(south, midwest))\n",
    "\n",
    "    print('\\033[1m' + '\\nKruskal test - S to W' + '\\033[0m')\n",
    "    print(stats.kruskal(south, west))\n",
    "\n",
    "    print('\\033[1m' + '\\nKruskal test - MW to W' + '\\033[0m')\n",
    "    print(stats.kruskal(midwest, west))\n",
    "    \n",
    "    return"
   ]
  },
  {
   "cell_type": "markdown",
   "metadata": {},
   "source": [
    "# Null Hypothesis:  Private foundation assets are equal across regions."
   ]
  },
  {
   "cell_type": "code",
   "execution_count": null,
   "metadata": {},
   "outputs": [],
   "source": [
    "# Compare the four regions assets for Private Foundations - boxplot\n",
    "boxPlotCompare(assets_pf_ne, assets_pf_s, assets_pf_mw, assets_pf_w,\n",
    "        \"Private Foundation Assets\", \"Assets ($) - Logrithmic Scale\")"
   ]
  },
  {
   "cell_type": "markdown",
   "metadata": {},
   "source": [
    "# Null Hypothesis:  Public Charity assets are equal across regions."
   ]
  },
  {
   "cell_type": "code",
   "execution_count": null,
   "metadata": {},
   "outputs": [],
   "source": [
    "# Compare the four regions assets for Public Charities\n",
    "boxPlotCompare(assets_pc_ne, assets_pc_s, assets_pc_mw, assets_pc_w,\n",
    "        \"Public Charities Assets\", \"Assets ($) - Logrithmic Scale\")"
   ]
  },
  {
   "cell_type": "markdown",
   "metadata": {},
   "source": [
    "# Null Hypothesis:  Private foundation revenue is equal across regions."
   ]
  },
  {
   "cell_type": "code",
   "execution_count": null,
   "metadata": {},
   "outputs": [],
   "source": [
    "# Compare the four regions revenue for Private Foundations\n",
    "boxPlotCompare(rev_pf_ne, rev_pf_s, rev_pf_mw, rev_pf_w,\n",
    "        \"Private Foundation Revenue\", \"Revenue ($) - Logrithmic Scale\")"
   ]
  },
  {
   "cell_type": "markdown",
   "metadata": {},
   "source": [
    "# Null Hypothesis:  Public Charity revenue is equal across regions."
   ]
  },
  {
   "cell_type": "code",
   "execution_count": null,
   "metadata": {},
   "outputs": [],
   "source": [
    "# Compare the four regions revenue for Public Charities\n",
    "boxPlotCompare(rev_pc_ne, rev_pc_s, rev_pc_mw, rev_pc_w,\n",
    "        \"Public Charity Revenue\", \"Revenue ($) - Logrithmic Scale\")"
   ]
  },
  {
   "cell_type": "markdown",
   "metadata": {},
   "source": [
    "# Based on results, look at means and medians for populations"
   ]
  },
  {
   "cell_type": "code",
   "execution_count": null,
   "metadata": {},
   "outputs": [],
   "source": [
    "# Create means\n",
    "asset_pc_means = assets_pc.groupby([\"REGION\"]).mean()\n",
    "asset_pf_means = assets_pf.groupby([\"REGION\"]).mean()\n",
    "rev_pc_means = rev_pc.groupby([\"REGION\"]).mean()\n",
    "rev_pf_means = rev_pf.groupby([\"REGION\"]).mean()\n",
    "\n",
    "# Create medians\n",
    "asset_pc_medians = assets_pc.groupby([\"REGION\"]).median()\n",
    "asset_pf_medians = assets_pf.groupby([\"REGION\"]).median()\n",
    "rev_pc_medians = rev_pc.groupby([\"REGION\"]).median()\n",
    "rev_pf_medians = rev_pf.groupby([\"REGION\"]).median()"
   ]
  },
  {
   "cell_type": "markdown",
   "metadata": {},
   "source": [
    "# Create a function to plot means and medians"
   ]
  },
  {
   "cell_type": "code",
   "execution_count": null,
   "metadata": {},
   "outputs": [],
   "source": [
    "def plotbyRegion(series1, series2, ylabel, title, series_label1, series_label2):\n",
    "    \n",
    "    # Set the figure size\n",
    "    plt.figure(figsize=(4,4))\n",
    "    \n",
    "    # plot the values\n",
    "    plt.plot(series1, label=series_label1, color='b', marker='o')\n",
    "    plt.plot(series2, label=series_label2, color='g', marker='o')\n",
    "    \n",
    "    # add labels, etc.\n",
    "    plt.title(title, weight='bold', size=14)\n",
    "    plt.xlabel(\"Region\")\n",
    "    plt.ylabel(ylabel)\n",
    "    plt.grid(alpha=0.5)\n",
    "    plt.legend(loc='best')\n",
    "    \n",
    "    # save the graph\n",
    "    plt.savefig('./Output/' + title.replace(\" \", \"\") + '.png')\n",
    "\n",
    "    return"
   ]
  },
  {
   "cell_type": "markdown",
   "metadata": {},
   "source": [
    "# Compare medians (Kruskal Wallis results)"
   ]
  },
  {
   "cell_type": "code",
   "execution_count": null,
   "metadata": {},
   "outputs": [],
   "source": [
    "# Plot by region and type the median assets and revenue\n",
    "plotbyRegion(asset_pc_medians, asset_pf_medians, \"Assets ($)\", \"Median Assets by Region\", \n",
    "             \"Public Charity\", \"Private Foundation\")\n",
    "\n",
    "plotbyRegion(rev_pc_medians, rev_pf_medians, \"Revenue ($)\", \"Median Revenue by Region\", \n",
    "             \"Public Charity\", \"Private Foundation\")"
   ]
  },
  {
   "cell_type": "markdown",
   "metadata": {},
   "source": [
    "# Compare means (ANOVA results)"
   ]
  },
  {
   "cell_type": "code",
   "execution_count": null,
   "metadata": {},
   "outputs": [],
   "source": [
    "# Plot by region and type the mean assets and revenue\n",
    "plotbyRegion(asset_pc_means, asset_pf_means, \"Assets ($)\", \"Mean Assets by Region\", \n",
    "             \"Public Charity\", \"Private Foundation\")\n",
    "\n",
    "plotbyRegion(rev_pc_means, rev_pf_means, \"Revenue ($)\", \"Mean Revenue by Region\", \n",
    "             \"Public Charity\", \"Private Foundation\")"
   ]
  },
  {
   "cell_type": "code",
   "execution_count": null,
   "metadata": {},
   "outputs": [],
   "source": []
  }
 ],
 "metadata": {
  "kernelspec": {
   "display_name": "Python 3",
   "language": "python",
   "name": "python3"
  },
  "language_info": {
   "codemirror_mode": {
    "name": "ipython",
    "version": 3
   },
   "file_extension": ".py",
   "mimetype": "text/x-python",
   "name": "python",
   "nbconvert_exporter": "python",
   "pygments_lexer": "ipython3",
   "version": "3.6.9"
  }
 },
 "nbformat": 4,
 "nbformat_minor": 2
}
